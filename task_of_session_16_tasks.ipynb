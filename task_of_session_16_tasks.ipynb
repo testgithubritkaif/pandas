{
  "nbformat": 4,
  "nbformat_minor": 0,
  "metadata": {
    "colab": {
      "provenance": [],
      "include_colab_link": true
    },
    "kernelspec": {
      "name": "python3",
      "display_name": "Python 3"
    },
    "language_info": {
      "name": "python"
    }
  },
  "cells": [
    {
      "cell_type": "markdown",
      "metadata": {
        "id": "view-in-github",
        "colab_type": "text"
      },
      "source": [
        "<a href=\"https://colab.research.google.com/github/testgithubritkaif/pandas/blob/main/task_of_session_16_tasks.ipynb\" target=\"_parent\"><img src=\"https://colab.research.google.com/assets/colab-badge.svg\" alt=\"Open In Colab\"/></a>"
      ]
    },
    {
      "cell_type": "code",
      "execution_count": null,
      "metadata": {
        "id": "zxrbXftDYalU"
      },
      "outputs": [],
      "source": []
    },
    {
      "cell_type": "markdown",
      "source": [
        "###`Q-1:` Write a program to create an empty series."
      ],
      "metadata": {
        "id": "MetYTZJpYfdz"
      }
    },
    {
      "cell_type": "code",
      "source": [
        "# code here\n",
        "import pandas as pd\n",
        "import numpy as np\n",
        "empty_series = pd.Series()\n",
        "empty_series"
      ],
      "metadata": {
        "id": "KUcgT935YgC5",
        "colab": {
          "base_uri": "https://localhost:8080/",
          "height": 84
        },
        "outputId": "42243ca3-c671-4858-e9b3-76b5c7c6ed32"
      },
      "execution_count": null,
      "outputs": [
        {
          "output_type": "execute_result",
          "data": {
            "text/plain": [
              "Series([], dtype: object)"
            ],
            "text/html": [
              "<div>\n",
              "<style scoped>\n",
              "    .dataframe tbody tr th:only-of-type {\n",
              "        vertical-align: middle;\n",
              "    }\n",
              "\n",
              "    .dataframe tbody tr th {\n",
              "        vertical-align: top;\n",
              "    }\n",
              "\n",
              "    .dataframe thead th {\n",
              "        text-align: right;\n",
              "    }\n",
              "</style>\n",
              "<table border=\"1\" class=\"dataframe\">\n",
              "  <thead>\n",
              "    <tr style=\"text-align: right;\">\n",
              "      <th></th>\n",
              "      <th>0</th>\n",
              "    </tr>\n",
              "  </thead>\n",
              "  <tbody>\n",
              "  </tbody>\n",
              "</table>\n",
              "</div><br><label><b>dtype:</b> object</label>"
            ]
          },
          "metadata": {},
          "execution_count": 2
        }
      ]
    },
    {
      "cell_type": "markdown",
      "source": [
        "###`Q-2:` Write a Pandas program to add, subtract, multiple and divide two Pandas Series."
      ],
      "metadata": {
        "id": "jw5ybzU6YhOo"
      }
    },
    {
      "cell_type": "code",
      "source": [
        "# code here\n",
        "series1 = pd.Series([2, 4, 6, 8, 10])\n",
        "series2 = pd.Series([1, 3, 5, 7, 9])\n",
        "print(f\"add = {series1 + series2}\")\n",
        "print(f\"sub = {series1 - series2}\")\n",
        "print(f\"Mul = {series1 * series2}\")\n",
        "print(f\"div = {series1 / series2}\")"
      ],
      "metadata": {
        "id": "EF3GgVFjYjwG",
        "colab": {
          "base_uri": "https://localhost:8080/"
        },
        "outputId": "efec37d8-710a-477e-bb9a-aa646bd42ff9"
      },
      "execution_count": null,
      "outputs": [
        {
          "output_type": "stream",
          "name": "stdout",
          "text": [
            "add = 0     3\n",
            "1     7\n",
            "2    11\n",
            "3    15\n",
            "4    19\n",
            "dtype: int64\n",
            "sub = 0    1\n",
            "1    1\n",
            "2    1\n",
            "3    1\n",
            "4    1\n",
            "dtype: int64\n",
            "Mul = 0     2\n",
            "1    12\n",
            "2    30\n",
            "3    56\n",
            "4    90\n",
            "dtype: int64\n",
            "div = 0    2.000000\n",
            "1    1.333333\n",
            "2    1.200000\n",
            "3    1.142857\n",
            "4    1.111111\n",
            "dtype: float64\n"
          ]
        }
      ]
    },
    {
      "cell_type": "markdown",
      "source": [
        "###`Q-3` Write a Pandas program to compare the elements of the two Pandas Series.\n",
        "Sample Series: [2, 4, 6, 8, 10], [1, 3, 5, 7, 10]\n",
        "\n"
      ],
      "metadata": {
        "id": "TZDp25jeYlB6"
      }
    },
    {
      "cell_type": "code",
      "source": [
        "# code here\n",
        "series1 = pd.Series([2, 4, 6, 8, 10])\n",
        "series2 = pd.Series([1, 3, 5, 7, 10])\n",
        "print(f\"series1 > series2 = {series1 > series2}\")\n",
        "print(f\"series1 < series2 = {series1 < series2}\")\n",
        "print(f\"series1 == series2 = {series1 == series2}\")"
      ],
      "metadata": {
        "id": "gFNil8ruYp1y",
        "colab": {
          "base_uri": "https://localhost:8080/"
        },
        "outputId": "3ab4014e-4cf5-460b-ab12-c43ae986839a"
      },
      "execution_count": null,
      "outputs": [
        {
          "output_type": "stream",
          "name": "stdout",
          "text": [
            "series1 > series2 = 0     True\n",
            "1     True\n",
            "2     True\n",
            "3     True\n",
            "4    False\n",
            "dtype: bool\n",
            "series1 < series2 = 0    False\n",
            "1    False\n",
            "2    False\n",
            "3    False\n",
            "4    False\n",
            "dtype: bool\n",
            "series1 == series2 = 0    False\n",
            "1    False\n",
            "2    False\n",
            "3    False\n",
            "4     True\n",
            "dtype: bool\n"
          ]
        }
      ]
    },
    {
      "cell_type": "markdown",
      "source": [
        "###`Q-5.`Write a function to change the data type of given a column or a Series. Function takes series and data type as input, returns the converted series.\n",
        "```\n",
        "series = pd.Series([1,2,'Python', 2.0, True, 100])\n",
        "change to float type data\n",
        "```\n",
        "Note: Read about pd.to_numeric()"
      ],
      "metadata": {
        "id": "HlOBn_N6YrZz"
      }
    },
    {
      "cell_type": "code",
      "source": [
        "# code here\n",
        "def change_data_type(series , data_type):\n",
        "  series = pd.to_numeric(series , errors = 'coerce')\n",
        "  series = series.astype(data_type)\n",
        "  return series\n",
        "\n",
        "series = pd.Series([1,2,'Python', 2.0, True, 100])\n",
        "change_data_type(series , 'float')"
      ],
      "metadata": {
        "id": "_SWQJCUJYwXm",
        "colab": {
          "base_uri": "https://localhost:8080/",
          "height": 272
        },
        "outputId": "d508ce1c-d033-4e26-d781-87d88bd2d521"
      },
      "execution_count": null,
      "outputs": [
        {
          "output_type": "execute_result",
          "data": {
            "text/plain": [
              "0      1.0\n",
              "1      2.0\n",
              "2      NaN\n",
              "3      2.0\n",
              "4      1.0\n",
              "5    100.0\n",
              "dtype: float64"
            ],
            "text/html": [
              "<div>\n",
              "<style scoped>\n",
              "    .dataframe tbody tr th:only-of-type {\n",
              "        vertical-align: middle;\n",
              "    }\n",
              "\n",
              "    .dataframe tbody tr th {\n",
              "        vertical-align: top;\n",
              "    }\n",
              "\n",
              "    .dataframe thead th {\n",
              "        text-align: right;\n",
              "    }\n",
              "</style>\n",
              "<table border=\"1\" class=\"dataframe\">\n",
              "  <thead>\n",
              "    <tr style=\"text-align: right;\">\n",
              "      <th></th>\n",
              "      <th>0</th>\n",
              "    </tr>\n",
              "  </thead>\n",
              "  <tbody>\n",
              "    <tr>\n",
              "      <th>0</th>\n",
              "      <td>1.0</td>\n",
              "    </tr>\n",
              "    <tr>\n",
              "      <th>1</th>\n",
              "      <td>2.0</td>\n",
              "    </tr>\n",
              "    <tr>\n",
              "      <th>2</th>\n",
              "      <td>NaN</td>\n",
              "    </tr>\n",
              "    <tr>\n",
              "      <th>3</th>\n",
              "      <td>2.0</td>\n",
              "    </tr>\n",
              "    <tr>\n",
              "      <th>4</th>\n",
              "      <td>1.0</td>\n",
              "    </tr>\n",
              "    <tr>\n",
              "      <th>5</th>\n",
              "      <td>100.0</td>\n",
              "    </tr>\n",
              "  </tbody>\n",
              "</table>\n",
              "</div><br><label><b>dtype:</b> float64</label>"
            ]
          },
          "metadata": {},
          "execution_count": 29
        }
      ]
    },
    {
      "cell_type": "markdown",
      "source": [
        "Download data - https://drive.google.com/file/d/1LRhXwbEodeWXtzPhJCX0X9Lf_BECzvqb/view?usp=share_link\n",
        "All Batsman runs series in IPL 2008 to 2022.\n",
        "\n",
        "Below questions are based on this data."
      ],
      "metadata": {
        "id": "PGp3OqRIY0Va"
      }
    },
    {
      "cell_type": "markdown",
      "source": [
        "###`Q-6` Find top 10 most run getter from the series."
      ],
      "metadata": {
        "id": "TxFkp-L4Y23d"
      }
    },
    {
      "cell_type": "code",
      "source": [
        "import pandas as pd\n",
        "import numpy as np\n",
        "batsman = pd.read_csv(\"/content/batsman_runs_series (1).csv\", index_col=\"batter\").squeeze()\n",
        "batsman\n",
        "batsman.sort_values(ascending=False).head(10)"
      ],
      "metadata": {
        "colab": {
          "base_uri": "https://localhost:8080/",
          "height": 429
        },
        "id": "OhUFmxo9OdFP",
        "outputId": "a508b56c-5157-4c9c-e489-1a0e7be11f3d"
      },
      "execution_count": 9,
      "outputs": [
        {
          "output_type": "execute_result",
          "data": {
            "text/plain": [
              "batter\n",
              "V Kohli           6634\n",
              "S Dhawan          6244\n",
              "DA Warner         5883\n",
              "RG Sharma         5881\n",
              "SK Raina          5536\n",
              "AB de Villiers    5181\n",
              "CH Gayle          4997\n",
              "MS Dhoni          4978\n",
              "RV Uthappa        4954\n",
              "KD Karthik        4377\n",
              "Name: batsman_run, dtype: int64"
            ],
            "text/html": [
              "<div>\n",
              "<style scoped>\n",
              "    .dataframe tbody tr th:only-of-type {\n",
              "        vertical-align: middle;\n",
              "    }\n",
              "\n",
              "    .dataframe tbody tr th {\n",
              "        vertical-align: top;\n",
              "    }\n",
              "\n",
              "    .dataframe thead th {\n",
              "        text-align: right;\n",
              "    }\n",
              "</style>\n",
              "<table border=\"1\" class=\"dataframe\">\n",
              "  <thead>\n",
              "    <tr style=\"text-align: right;\">\n",
              "      <th></th>\n",
              "      <th>batsman_run</th>\n",
              "    </tr>\n",
              "    <tr>\n",
              "      <th>batter</th>\n",
              "      <th></th>\n",
              "    </tr>\n",
              "  </thead>\n",
              "  <tbody>\n",
              "    <tr>\n",
              "      <th>V Kohli</th>\n",
              "      <td>6634</td>\n",
              "    </tr>\n",
              "    <tr>\n",
              "      <th>S Dhawan</th>\n",
              "      <td>6244</td>\n",
              "    </tr>\n",
              "    <tr>\n",
              "      <th>DA Warner</th>\n",
              "      <td>5883</td>\n",
              "    </tr>\n",
              "    <tr>\n",
              "      <th>RG Sharma</th>\n",
              "      <td>5881</td>\n",
              "    </tr>\n",
              "    <tr>\n",
              "      <th>SK Raina</th>\n",
              "      <td>5536</td>\n",
              "    </tr>\n",
              "    <tr>\n",
              "      <th>AB de Villiers</th>\n",
              "      <td>5181</td>\n",
              "    </tr>\n",
              "    <tr>\n",
              "      <th>CH Gayle</th>\n",
              "      <td>4997</td>\n",
              "    </tr>\n",
              "    <tr>\n",
              "      <th>MS Dhoni</th>\n",
              "      <td>4978</td>\n",
              "    </tr>\n",
              "    <tr>\n",
              "      <th>RV Uthappa</th>\n",
              "      <td>4954</td>\n",
              "    </tr>\n",
              "    <tr>\n",
              "      <th>KD Karthik</th>\n",
              "      <td>4377</td>\n",
              "    </tr>\n",
              "  </tbody>\n",
              "</table>\n",
              "</div><br><label><b>dtype:</b> int64</label>"
            ]
          },
          "metadata": {},
          "execution_count": 9
        }
      ]
    },
    {
      "cell_type": "markdown",
      "source": [
        "###`Q-7` No of players having runs above 3000"
      ],
      "metadata": {
        "id": "GzlCFBM_Y83g"
      }
    },
    {
      "cell_type": "code",
      "source": [
        "# code here\n",
        "batsman[batsman > 3000]"
      ],
      "metadata": {
        "id": "JdNchHRWY1B-",
        "colab": {
          "base_uri": "https://localhost:8080/",
          "height": 742
        },
        "outputId": "af537fed-f9c5-4f34-f6d3-77422f90105d"
      },
      "execution_count": 11,
      "outputs": [
        {
          "output_type": "execute_result",
          "data": {
            "text/plain": [
              "batter\n",
              "AB de Villiers    5181\n",
              "AM Rahane         4074\n",
              "AT Rayudu         4190\n",
              "CH Gayle          4997\n",
              "DA Warner         5883\n",
              "F du Plessis      3403\n",
              "G Gambhir         4217\n",
              "KA Pollard        3437\n",
              "KD Karthik        4377\n",
              "KL Rahul          3895\n",
              "MK Pandey         3657\n",
              "MS Dhoni          4978\n",
              "RG Sharma         5881\n",
              "RV Uthappa        4954\n",
              "S Dhawan          6244\n",
              "SK Raina          5536\n",
              "SR Watson         3880\n",
              "SV Samson         3526\n",
              "V Kohli           6634\n",
              "YK Pathan         3222\n",
              "Name: batsman_run, dtype: int64"
            ],
            "text/html": [
              "<div>\n",
              "<style scoped>\n",
              "    .dataframe tbody tr th:only-of-type {\n",
              "        vertical-align: middle;\n",
              "    }\n",
              "\n",
              "    .dataframe tbody tr th {\n",
              "        vertical-align: top;\n",
              "    }\n",
              "\n",
              "    .dataframe thead th {\n",
              "        text-align: right;\n",
              "    }\n",
              "</style>\n",
              "<table border=\"1\" class=\"dataframe\">\n",
              "  <thead>\n",
              "    <tr style=\"text-align: right;\">\n",
              "      <th></th>\n",
              "      <th>batsman_run</th>\n",
              "    </tr>\n",
              "    <tr>\n",
              "      <th>batter</th>\n",
              "      <th></th>\n",
              "    </tr>\n",
              "  </thead>\n",
              "  <tbody>\n",
              "    <tr>\n",
              "      <th>AB de Villiers</th>\n",
              "      <td>5181</td>\n",
              "    </tr>\n",
              "    <tr>\n",
              "      <th>AM Rahane</th>\n",
              "      <td>4074</td>\n",
              "    </tr>\n",
              "    <tr>\n",
              "      <th>AT Rayudu</th>\n",
              "      <td>4190</td>\n",
              "    </tr>\n",
              "    <tr>\n",
              "      <th>CH Gayle</th>\n",
              "      <td>4997</td>\n",
              "    </tr>\n",
              "    <tr>\n",
              "      <th>DA Warner</th>\n",
              "      <td>5883</td>\n",
              "    </tr>\n",
              "    <tr>\n",
              "      <th>F du Plessis</th>\n",
              "      <td>3403</td>\n",
              "    </tr>\n",
              "    <tr>\n",
              "      <th>G Gambhir</th>\n",
              "      <td>4217</td>\n",
              "    </tr>\n",
              "    <tr>\n",
              "      <th>KA Pollard</th>\n",
              "      <td>3437</td>\n",
              "    </tr>\n",
              "    <tr>\n",
              "      <th>KD Karthik</th>\n",
              "      <td>4377</td>\n",
              "    </tr>\n",
              "    <tr>\n",
              "      <th>KL Rahul</th>\n",
              "      <td>3895</td>\n",
              "    </tr>\n",
              "    <tr>\n",
              "      <th>MK Pandey</th>\n",
              "      <td>3657</td>\n",
              "    </tr>\n",
              "    <tr>\n",
              "      <th>MS Dhoni</th>\n",
              "      <td>4978</td>\n",
              "    </tr>\n",
              "    <tr>\n",
              "      <th>RG Sharma</th>\n",
              "      <td>5881</td>\n",
              "    </tr>\n",
              "    <tr>\n",
              "      <th>RV Uthappa</th>\n",
              "      <td>4954</td>\n",
              "    </tr>\n",
              "    <tr>\n",
              "      <th>S Dhawan</th>\n",
              "      <td>6244</td>\n",
              "    </tr>\n",
              "    <tr>\n",
              "      <th>SK Raina</th>\n",
              "      <td>5536</td>\n",
              "    </tr>\n",
              "    <tr>\n",
              "      <th>SR Watson</th>\n",
              "      <td>3880</td>\n",
              "    </tr>\n",
              "    <tr>\n",
              "      <th>SV Samson</th>\n",
              "      <td>3526</td>\n",
              "    </tr>\n",
              "    <tr>\n",
              "      <th>V Kohli</th>\n",
              "      <td>6634</td>\n",
              "    </tr>\n",
              "    <tr>\n",
              "      <th>YK Pathan</th>\n",
              "      <td>3222</td>\n",
              "    </tr>\n",
              "  </tbody>\n",
              "</table>\n",
              "</div><br><label><b>dtype:</b> int64</label>"
            ]
          },
          "metadata": {},
          "execution_count": 11
        }
      ]
    },
    {
      "cell_type": "markdown",
      "source": [
        "###`Q-8` No of players having runs above mean value?"
      ],
      "metadata": {
        "id": "pMBEoCL1Y-vh"
      }
    },
    {
      "cell_type": "code",
      "source": [
        "# code here\n",
        "print(batsman.mean())\n",
        "batsman[batsman > batsman.mean()]"
      ],
      "metadata": {
        "id": "LgtViVFZZBIu",
        "colab": {
          "base_uri": "https://localhost:8080/",
          "height": 507
        },
        "outputId": "446ce1ee-2c0b-4171-e2ad-a52e8cebdabd"
      },
      "execution_count": 14,
      "outputs": [
        {
          "output_type": "stream",
          "name": "stdout",
          "text": [
            "464.42809917355373\n"
          ]
        },
        {
          "output_type": "execute_result",
          "data": {
            "text/plain": [
              "batter\n",
              "A Symonds           974\n",
              "AB de Villiers     5181\n",
              "AC Gilchrist       2069\n",
              "AD Mathews          724\n",
              "AD Russell         2039\n",
              "                   ... \n",
              "WP Saha            2427\n",
              "Y Venugopal Rao     985\n",
              "YBK Jaiswal         547\n",
              "YK Pathan          3222\n",
              "Yuvraj Singh       2754\n",
              "Name: batsman_run, Length: 128, dtype: int64"
            ],
            "text/html": [
              "<div>\n",
              "<style scoped>\n",
              "    .dataframe tbody tr th:only-of-type {\n",
              "        vertical-align: middle;\n",
              "    }\n",
              "\n",
              "    .dataframe tbody tr th {\n",
              "        vertical-align: top;\n",
              "    }\n",
              "\n",
              "    .dataframe thead th {\n",
              "        text-align: right;\n",
              "    }\n",
              "</style>\n",
              "<table border=\"1\" class=\"dataframe\">\n",
              "  <thead>\n",
              "    <tr style=\"text-align: right;\">\n",
              "      <th></th>\n",
              "      <th>batsman_run</th>\n",
              "    </tr>\n",
              "    <tr>\n",
              "      <th>batter</th>\n",
              "      <th></th>\n",
              "    </tr>\n",
              "  </thead>\n",
              "  <tbody>\n",
              "    <tr>\n",
              "      <th>A Symonds</th>\n",
              "      <td>974</td>\n",
              "    </tr>\n",
              "    <tr>\n",
              "      <th>AB de Villiers</th>\n",
              "      <td>5181</td>\n",
              "    </tr>\n",
              "    <tr>\n",
              "      <th>AC Gilchrist</th>\n",
              "      <td>2069</td>\n",
              "    </tr>\n",
              "    <tr>\n",
              "      <th>AD Mathews</th>\n",
              "      <td>724</td>\n",
              "    </tr>\n",
              "    <tr>\n",
              "      <th>AD Russell</th>\n",
              "      <td>2039</td>\n",
              "    </tr>\n",
              "    <tr>\n",
              "      <th>...</th>\n",
              "      <td>...</td>\n",
              "    </tr>\n",
              "    <tr>\n",
              "      <th>WP Saha</th>\n",
              "      <td>2427</td>\n",
              "    </tr>\n",
              "    <tr>\n",
              "      <th>Y Venugopal Rao</th>\n",
              "      <td>985</td>\n",
              "    </tr>\n",
              "    <tr>\n",
              "      <th>YBK Jaiswal</th>\n",
              "      <td>547</td>\n",
              "    </tr>\n",
              "    <tr>\n",
              "      <th>YK Pathan</th>\n",
              "      <td>3222</td>\n",
              "    </tr>\n",
              "    <tr>\n",
              "      <th>Yuvraj Singh</th>\n",
              "      <td>2754</td>\n",
              "    </tr>\n",
              "  </tbody>\n",
              "</table>\n",
              "<p>128 rows × 1 columns</p>\n",
              "</div><br><label><b>dtype:</b> int64</label>"
            ]
          },
          "metadata": {},
          "execution_count": 14
        }
      ]
    },
    {
      "cell_type": "markdown",
      "source": [
        "Download data - https://drive.google.com/file/d/1QZuZ5bypUInfVvarHACLAi8tXXHvb8xd/view?usp=share_link\n",
        "\n",
        "file name - items.csv\n",
        "\n"
      ],
      "metadata": {
        "id": "OAB1CgdgZEqE"
      }
    },
    {
      "cell_type": "markdown",
      "source": [
        "###`Q-9`\n",
        "    i. Read `items.csv` making `item_name` as index.\n",
        "    ii. Show no of nan values\n",
        "    ii. Item price is given in $, so convert it to rupees without currency symbol.\n",
        "    iii. Make data type of newly made series as float.\n",
        "    iv. Fill nan with mean of the series\n",
        "\n",
        "\n",
        "How csv file looks\n",
        "\n",
        "```\n",
        "item_name\titem_price\n",
        "Chips and Fresh Tomato Salsa\t$2.39\n",
        "Izze\t$3.39\n",
        "Nantucket Nectar\t$3.39\n",
        "Chips and Tomatillo-Green Chili Salsa\t$2.39\n",
        "Chicken Bowl\t$16.98\n",
        "\n",
        "```"
      ],
      "metadata": {
        "id": "1UTQQImxZGLu"
      }
    },
    {
      "cell_type": "code",
      "source": [
        "# code here\n",
        "iteam = pd.read_csv(\"/content/items (1).csv\")\n",
        "iteam"
      ],
      "metadata": {
        "id": "1xaWkoMJZFNK",
        "colab": {
          "base_uri": "https://localhost:8080/",
          "height": 423
        },
        "outputId": "ed209676-982c-47f0-9eb1-5b9488be3ae8"
      },
      "execution_count": 34,
      "outputs": [
        {
          "output_type": "execute_result",
          "data": {
            "text/plain": [
              "                                  item_name item_price\n",
              "0              Chips and Fresh Tomato Salsa     $2.39 \n",
              "1                                      Izze     $3.39 \n",
              "2                          Nantucket Nectar     $3.39 \n",
              "3     Chips and Tomatillo-Green Chili Salsa     $2.39 \n",
              "4                              Chicken Bowl    $16.98 \n",
              "...                                     ...        ...\n",
              "4617                          Steak Burrito    $11.75 \n",
              "4618                          Steak Burrito    $11.75 \n",
              "4619                     Chicken Salad Bowl    $11.25 \n",
              "4620                     Chicken Salad Bowl     $8.75 \n",
              "4621                     Chicken Salad Bowl     $8.75 \n",
              "\n",
              "[4622 rows x 2 columns]"
            ],
            "text/html": [
              "\n",
              "  <div id=\"df-340b93e2-d7a8-48a2-8d91-e5e46afc74e7\" class=\"colab-df-container\">\n",
              "    <div>\n",
              "<style scoped>\n",
              "    .dataframe tbody tr th:only-of-type {\n",
              "        vertical-align: middle;\n",
              "    }\n",
              "\n",
              "    .dataframe tbody tr th {\n",
              "        vertical-align: top;\n",
              "    }\n",
              "\n",
              "    .dataframe thead th {\n",
              "        text-align: right;\n",
              "    }\n",
              "</style>\n",
              "<table border=\"1\" class=\"dataframe\">\n",
              "  <thead>\n",
              "    <tr style=\"text-align: right;\">\n",
              "      <th></th>\n",
              "      <th>item_name</th>\n",
              "      <th>item_price</th>\n",
              "    </tr>\n",
              "  </thead>\n",
              "  <tbody>\n",
              "    <tr>\n",
              "      <th>0</th>\n",
              "      <td>Chips and Fresh Tomato Salsa</td>\n",
              "      <td>$2.39</td>\n",
              "    </tr>\n",
              "    <tr>\n",
              "      <th>1</th>\n",
              "      <td>Izze</td>\n",
              "      <td>$3.39</td>\n",
              "    </tr>\n",
              "    <tr>\n",
              "      <th>2</th>\n",
              "      <td>Nantucket Nectar</td>\n",
              "      <td>$3.39</td>\n",
              "    </tr>\n",
              "    <tr>\n",
              "      <th>3</th>\n",
              "      <td>Chips and Tomatillo-Green Chili Salsa</td>\n",
              "      <td>$2.39</td>\n",
              "    </tr>\n",
              "    <tr>\n",
              "      <th>4</th>\n",
              "      <td>Chicken Bowl</td>\n",
              "      <td>$16.98</td>\n",
              "    </tr>\n",
              "    <tr>\n",
              "      <th>...</th>\n",
              "      <td>...</td>\n",
              "      <td>...</td>\n",
              "    </tr>\n",
              "    <tr>\n",
              "      <th>4617</th>\n",
              "      <td>Steak Burrito</td>\n",
              "      <td>$11.75</td>\n",
              "    </tr>\n",
              "    <tr>\n",
              "      <th>4618</th>\n",
              "      <td>Steak Burrito</td>\n",
              "      <td>$11.75</td>\n",
              "    </tr>\n",
              "    <tr>\n",
              "      <th>4619</th>\n",
              "      <td>Chicken Salad Bowl</td>\n",
              "      <td>$11.25</td>\n",
              "    </tr>\n",
              "    <tr>\n",
              "      <th>4620</th>\n",
              "      <td>Chicken Salad Bowl</td>\n",
              "      <td>$8.75</td>\n",
              "    </tr>\n",
              "    <tr>\n",
              "      <th>4621</th>\n",
              "      <td>Chicken Salad Bowl</td>\n",
              "      <td>$8.75</td>\n",
              "    </tr>\n",
              "  </tbody>\n",
              "</table>\n",
              "<p>4622 rows × 2 columns</p>\n",
              "</div>\n",
              "    <div class=\"colab-df-buttons\">\n",
              "\n",
              "  <div class=\"colab-df-container\">\n",
              "    <button class=\"colab-df-convert\" onclick=\"convertToInteractive('df-340b93e2-d7a8-48a2-8d91-e5e46afc74e7')\"\n",
              "            title=\"Convert this dataframe to an interactive table.\"\n",
              "            style=\"display:none;\">\n",
              "\n",
              "  <svg xmlns=\"http://www.w3.org/2000/svg\" height=\"24px\" viewBox=\"0 -960 960 960\">\n",
              "    <path d=\"M120-120v-720h720v720H120Zm60-500h600v-160H180v160Zm220 220h160v-160H400v160Zm0 220h160v-160H400v160ZM180-400h160v-160H180v160Zm440 0h160v-160H620v160ZM180-180h160v-160H180v160Zm440 0h160v-160H620v160Z\"/>\n",
              "  </svg>\n",
              "    </button>\n",
              "\n",
              "  <style>\n",
              "    .colab-df-container {\n",
              "      display:flex;\n",
              "      gap: 12px;\n",
              "    }\n",
              "\n",
              "    .colab-df-convert {\n",
              "      background-color: #E8F0FE;\n",
              "      border: none;\n",
              "      border-radius: 50%;\n",
              "      cursor: pointer;\n",
              "      display: none;\n",
              "      fill: #1967D2;\n",
              "      height: 32px;\n",
              "      padding: 0 0 0 0;\n",
              "      width: 32px;\n",
              "    }\n",
              "\n",
              "    .colab-df-convert:hover {\n",
              "      background-color: #E2EBFA;\n",
              "      box-shadow: 0px 1px 2px rgba(60, 64, 67, 0.3), 0px 1px 3px 1px rgba(60, 64, 67, 0.15);\n",
              "      fill: #174EA6;\n",
              "    }\n",
              "\n",
              "    .colab-df-buttons div {\n",
              "      margin-bottom: 4px;\n",
              "    }\n",
              "\n",
              "    [theme=dark] .colab-df-convert {\n",
              "      background-color: #3B4455;\n",
              "      fill: #D2E3FC;\n",
              "    }\n",
              "\n",
              "    [theme=dark] .colab-df-convert:hover {\n",
              "      background-color: #434B5C;\n",
              "      box-shadow: 0px 1px 3px 1px rgba(0, 0, 0, 0.15);\n",
              "      filter: drop-shadow(0px 1px 2px rgba(0, 0, 0, 0.3));\n",
              "      fill: #FFFFFF;\n",
              "    }\n",
              "  </style>\n",
              "\n",
              "    <script>\n",
              "      const buttonEl =\n",
              "        document.querySelector('#df-340b93e2-d7a8-48a2-8d91-e5e46afc74e7 button.colab-df-convert');\n",
              "      buttonEl.style.display =\n",
              "        google.colab.kernel.accessAllowed ? 'block' : 'none';\n",
              "\n",
              "      async function convertToInteractive(key) {\n",
              "        const element = document.querySelector('#df-340b93e2-d7a8-48a2-8d91-e5e46afc74e7');\n",
              "        const dataTable =\n",
              "          await google.colab.kernel.invokeFunction('convertToInteractive',\n",
              "                                                    [key], {});\n",
              "        if (!dataTable) return;\n",
              "\n",
              "        const docLinkHtml = 'Like what you see? Visit the ' +\n",
              "          '<a target=\"_blank\" href=https://colab.research.google.com/notebooks/data_table.ipynb>data table notebook</a>'\n",
              "          + ' to learn more about interactive tables.';\n",
              "        element.innerHTML = '';\n",
              "        dataTable['output_type'] = 'display_data';\n",
              "        await google.colab.output.renderOutput(dataTable, element);\n",
              "        const docLink = document.createElement('div');\n",
              "        docLink.innerHTML = docLinkHtml;\n",
              "        element.appendChild(docLink);\n",
              "      }\n",
              "    </script>\n",
              "  </div>\n",
              "\n",
              "\n",
              "    <div id=\"df-6f5bd3ea-5e52-4c63-8461-58a878643301\">\n",
              "      <button class=\"colab-df-quickchart\" onclick=\"quickchart('df-6f5bd3ea-5e52-4c63-8461-58a878643301')\"\n",
              "                title=\"Suggest charts\"\n",
              "                style=\"display:none;\">\n",
              "\n",
              "<svg xmlns=\"http://www.w3.org/2000/svg\" height=\"24px\"viewBox=\"0 0 24 24\"\n",
              "     width=\"24px\">\n",
              "    <g>\n",
              "        <path d=\"M19 3H5c-1.1 0-2 .9-2 2v14c0 1.1.9 2 2 2h14c1.1 0 2-.9 2-2V5c0-1.1-.9-2-2-2zM9 17H7v-7h2v7zm4 0h-2V7h2v10zm4 0h-2v-4h2v4z\"/>\n",
              "    </g>\n",
              "</svg>\n",
              "      </button>\n",
              "\n",
              "<style>\n",
              "  .colab-df-quickchart {\n",
              "      --bg-color: #E8F0FE;\n",
              "      --fill-color: #1967D2;\n",
              "      --hover-bg-color: #E2EBFA;\n",
              "      --hover-fill-color: #174EA6;\n",
              "      --disabled-fill-color: #AAA;\n",
              "      --disabled-bg-color: #DDD;\n",
              "  }\n",
              "\n",
              "  [theme=dark] .colab-df-quickchart {\n",
              "      --bg-color: #3B4455;\n",
              "      --fill-color: #D2E3FC;\n",
              "      --hover-bg-color: #434B5C;\n",
              "      --hover-fill-color: #FFFFFF;\n",
              "      --disabled-bg-color: #3B4455;\n",
              "      --disabled-fill-color: #666;\n",
              "  }\n",
              "\n",
              "  .colab-df-quickchart {\n",
              "    background-color: var(--bg-color);\n",
              "    border: none;\n",
              "    border-radius: 50%;\n",
              "    cursor: pointer;\n",
              "    display: none;\n",
              "    fill: var(--fill-color);\n",
              "    height: 32px;\n",
              "    padding: 0;\n",
              "    width: 32px;\n",
              "  }\n",
              "\n",
              "  .colab-df-quickchart:hover {\n",
              "    background-color: var(--hover-bg-color);\n",
              "    box-shadow: 0 1px 2px rgba(60, 64, 67, 0.3), 0 1px 3px 1px rgba(60, 64, 67, 0.15);\n",
              "    fill: var(--button-hover-fill-color);\n",
              "  }\n",
              "\n",
              "  .colab-df-quickchart-complete:disabled,\n",
              "  .colab-df-quickchart-complete:disabled:hover {\n",
              "    background-color: var(--disabled-bg-color);\n",
              "    fill: var(--disabled-fill-color);\n",
              "    box-shadow: none;\n",
              "  }\n",
              "\n",
              "  .colab-df-spinner {\n",
              "    border: 2px solid var(--fill-color);\n",
              "    border-color: transparent;\n",
              "    border-bottom-color: var(--fill-color);\n",
              "    animation:\n",
              "      spin 1s steps(1) infinite;\n",
              "  }\n",
              "\n",
              "  @keyframes spin {\n",
              "    0% {\n",
              "      border-color: transparent;\n",
              "      border-bottom-color: var(--fill-color);\n",
              "      border-left-color: var(--fill-color);\n",
              "    }\n",
              "    20% {\n",
              "      border-color: transparent;\n",
              "      border-left-color: var(--fill-color);\n",
              "      border-top-color: var(--fill-color);\n",
              "    }\n",
              "    30% {\n",
              "      border-color: transparent;\n",
              "      border-left-color: var(--fill-color);\n",
              "      border-top-color: var(--fill-color);\n",
              "      border-right-color: var(--fill-color);\n",
              "    }\n",
              "    40% {\n",
              "      border-color: transparent;\n",
              "      border-right-color: var(--fill-color);\n",
              "      border-top-color: var(--fill-color);\n",
              "    }\n",
              "    60% {\n",
              "      border-color: transparent;\n",
              "      border-right-color: var(--fill-color);\n",
              "    }\n",
              "    80% {\n",
              "      border-color: transparent;\n",
              "      border-right-color: var(--fill-color);\n",
              "      border-bottom-color: var(--fill-color);\n",
              "    }\n",
              "    90% {\n",
              "      border-color: transparent;\n",
              "      border-bottom-color: var(--fill-color);\n",
              "    }\n",
              "  }\n",
              "</style>\n",
              "\n",
              "      <script>\n",
              "        async function quickchart(key) {\n",
              "          const quickchartButtonEl =\n",
              "            document.querySelector('#' + key + ' button');\n",
              "          quickchartButtonEl.disabled = true;  // To prevent multiple clicks.\n",
              "          quickchartButtonEl.classList.add('colab-df-spinner');\n",
              "          try {\n",
              "            const charts = await google.colab.kernel.invokeFunction(\n",
              "                'suggestCharts', [key], {});\n",
              "          } catch (error) {\n",
              "            console.error('Error during call to suggestCharts:', error);\n",
              "          }\n",
              "          quickchartButtonEl.classList.remove('colab-df-spinner');\n",
              "          quickchartButtonEl.classList.add('colab-df-quickchart-complete');\n",
              "        }\n",
              "        (() => {\n",
              "          let quickchartButtonEl =\n",
              "            document.querySelector('#df-6f5bd3ea-5e52-4c63-8461-58a878643301 button');\n",
              "          quickchartButtonEl.style.display =\n",
              "            google.colab.kernel.accessAllowed ? 'block' : 'none';\n",
              "        })();\n",
              "      </script>\n",
              "    </div>\n",
              "\n",
              "  <div id=\"id_37377349-4159-49a2-8cc6-6f8579042bc8\">\n",
              "    <style>\n",
              "      .colab-df-generate {\n",
              "        background-color: #E8F0FE;\n",
              "        border: none;\n",
              "        border-radius: 50%;\n",
              "        cursor: pointer;\n",
              "        display: none;\n",
              "        fill: #1967D2;\n",
              "        height: 32px;\n",
              "        padding: 0 0 0 0;\n",
              "        width: 32px;\n",
              "      }\n",
              "\n",
              "      .colab-df-generate:hover {\n",
              "        background-color: #E2EBFA;\n",
              "        box-shadow: 0px 1px 2px rgba(60, 64, 67, 0.3), 0px 1px 3px 1px rgba(60, 64, 67, 0.15);\n",
              "        fill: #174EA6;\n",
              "      }\n",
              "\n",
              "      [theme=dark] .colab-df-generate {\n",
              "        background-color: #3B4455;\n",
              "        fill: #D2E3FC;\n",
              "      }\n",
              "\n",
              "      [theme=dark] .colab-df-generate:hover {\n",
              "        background-color: #434B5C;\n",
              "        box-shadow: 0px 1px 3px 1px rgba(0, 0, 0, 0.15);\n",
              "        filter: drop-shadow(0px 1px 2px rgba(0, 0, 0, 0.3));\n",
              "        fill: #FFFFFF;\n",
              "      }\n",
              "    </style>\n",
              "    <button class=\"colab-df-generate\" onclick=\"generateWithVariable('iteam')\"\n",
              "            title=\"Generate code using this dataframe.\"\n",
              "            style=\"display:none;\">\n",
              "\n",
              "  <svg xmlns=\"http://www.w3.org/2000/svg\" height=\"24px\"viewBox=\"0 0 24 24\"\n",
              "       width=\"24px\">\n",
              "    <path d=\"M7,19H8.4L18.45,9,17,7.55,7,17.6ZM5,21V16.75L18.45,3.32a2,2,0,0,1,2.83,0l1.4,1.43a1.91,1.91,0,0,1,.58,1.4,1.91,1.91,0,0,1-.58,1.4L9.25,21ZM18.45,9,17,7.55Zm-12,3A5.31,5.31,0,0,0,4.9,8.1,5.31,5.31,0,0,0,1,6.5,5.31,5.31,0,0,0,4.9,4.9,5.31,5.31,0,0,0,6.5,1,5.31,5.31,0,0,0,8.1,4.9,5.31,5.31,0,0,0,12,6.5,5.46,5.46,0,0,0,6.5,12Z\"/>\n",
              "  </svg>\n",
              "    </button>\n",
              "    <script>\n",
              "      (() => {\n",
              "      const buttonEl =\n",
              "        document.querySelector('#id_37377349-4159-49a2-8cc6-6f8579042bc8 button.colab-df-generate');\n",
              "      buttonEl.style.display =\n",
              "        google.colab.kernel.accessAllowed ? 'block' : 'none';\n",
              "\n",
              "      buttonEl.onclick = () => {\n",
              "        google.colab.notebook.generateWithVariable('iteam');\n",
              "      }\n",
              "      })();\n",
              "    </script>\n",
              "  </div>\n",
              "\n",
              "    </div>\n",
              "  </div>\n"
            ],
            "application/vnd.google.colaboratory.intrinsic+json": {
              "type": "dataframe",
              "variable_name": "iteam",
              "summary": "{\n  \"name\": \"iteam\",\n  \"rows\": 4622,\n  \"fields\": [\n    {\n      \"column\": \"item_name\",\n      \"properties\": {\n        \"dtype\": \"category\",\n        \"num_unique_values\": 50,\n        \"samples\": [\n          \"Barbacoa Burrito\",\n          \"Crispy Tacos\",\n          \"Chips and Roasted Chili Corn Salsa\"\n        ],\n        \"semantic_type\": \"\",\n        \"description\": \"\"\n      }\n    },\n    {\n      \"column\": \"item_price\",\n      \"properties\": {\n        \"dtype\": \"category\",\n        \"num_unique_values\": 78,\n        \"samples\": [\n          \"$7.40 \",\n          \"$2.39 \",\n          \"$18.50 \"\n        ],\n        \"semantic_type\": \"\",\n        \"description\": \"\"\n      }\n    }\n  ]\n}"
            }
          },
          "metadata": {},
          "execution_count": 34
        }
      ]
    },
    {
      "cell_type": "code",
      "source": [
        "# i. Read `items.csv` making `item_name` as index.\n",
        "iteam = pd.read_csv(\"/content/items (1).csv\", index_col=\"item_name\").squeeze()\n",
        "iteam\n"
      ],
      "metadata": {
        "colab": {
          "base_uri": "https://localhost:8080/",
          "height": 489
        },
        "id": "4nUsqZpxSzZ3",
        "outputId": "109445bf-d577-40cf-9353-96dfa367fc63"
      },
      "execution_count": 65,
      "outputs": [
        {
          "output_type": "execute_result",
          "data": {
            "text/plain": [
              "item_name\n",
              "Chips and Fresh Tomato Salsa              $2.39 \n",
              "Izze                                      $3.39 \n",
              "Nantucket Nectar                          $3.39 \n",
              "Chips and Tomatillo-Green Chili Salsa     $2.39 \n",
              "Chicken Bowl                             $16.98 \n",
              "                                          ...   \n",
              "Steak Burrito                            $11.75 \n",
              "Steak Burrito                            $11.75 \n",
              "Chicken Salad Bowl                       $11.25 \n",
              "Chicken Salad Bowl                        $8.75 \n",
              "Chicken Salad Bowl                        $8.75 \n",
              "Name: item_price, Length: 4622, dtype: object"
            ],
            "text/html": [
              "<div>\n",
              "<style scoped>\n",
              "    .dataframe tbody tr th:only-of-type {\n",
              "        vertical-align: middle;\n",
              "    }\n",
              "\n",
              "    .dataframe tbody tr th {\n",
              "        vertical-align: top;\n",
              "    }\n",
              "\n",
              "    .dataframe thead th {\n",
              "        text-align: right;\n",
              "    }\n",
              "</style>\n",
              "<table border=\"1\" class=\"dataframe\">\n",
              "  <thead>\n",
              "    <tr style=\"text-align: right;\">\n",
              "      <th></th>\n",
              "      <th>item_price</th>\n",
              "    </tr>\n",
              "    <tr>\n",
              "      <th>item_name</th>\n",
              "      <th></th>\n",
              "    </tr>\n",
              "  </thead>\n",
              "  <tbody>\n",
              "    <tr>\n",
              "      <th>Chips and Fresh Tomato Salsa</th>\n",
              "      <td>$2.39</td>\n",
              "    </tr>\n",
              "    <tr>\n",
              "      <th>Izze</th>\n",
              "      <td>$3.39</td>\n",
              "    </tr>\n",
              "    <tr>\n",
              "      <th>Nantucket Nectar</th>\n",
              "      <td>$3.39</td>\n",
              "    </tr>\n",
              "    <tr>\n",
              "      <th>Chips and Tomatillo-Green Chili Salsa</th>\n",
              "      <td>$2.39</td>\n",
              "    </tr>\n",
              "    <tr>\n",
              "      <th>Chicken Bowl</th>\n",
              "      <td>$16.98</td>\n",
              "    </tr>\n",
              "    <tr>\n",
              "      <th>...</th>\n",
              "      <td>...</td>\n",
              "    </tr>\n",
              "    <tr>\n",
              "      <th>Steak Burrito</th>\n",
              "      <td>$11.75</td>\n",
              "    </tr>\n",
              "    <tr>\n",
              "      <th>Steak Burrito</th>\n",
              "      <td>$11.75</td>\n",
              "    </tr>\n",
              "    <tr>\n",
              "      <th>Chicken Salad Bowl</th>\n",
              "      <td>$11.25</td>\n",
              "    </tr>\n",
              "    <tr>\n",
              "      <th>Chicken Salad Bowl</th>\n",
              "      <td>$8.75</td>\n",
              "    </tr>\n",
              "    <tr>\n",
              "      <th>Chicken Salad Bowl</th>\n",
              "      <td>$8.75</td>\n",
              "    </tr>\n",
              "  </tbody>\n",
              "</table>\n",
              "<p>4622 rows × 1 columns</p>\n",
              "</div><br><label><b>dtype:</b> object</label>"
            ]
          },
          "metadata": {},
          "execution_count": 65
        }
      ]
    },
    {
      "cell_type": "code",
      "source": [
        "# #ii Show no of nan values\n",
        "print(f\"Number of NaN values: {iteam.isnull().sum()}\")\n"
      ],
      "metadata": {
        "colab": {
          "base_uri": "https://localhost:8080/"
        },
        "id": "L88PwLm2TBMV",
        "outputId": "609dfc12-f90c-442c-ffeb-a2ad61750353"
      },
      "execution_count": 53,
      "outputs": [
        {
          "output_type": "stream",
          "name": "stdout",
          "text": [
            "Number of NaN values: 50\n"
          ]
        }
      ]
    },
    {
      "cell_type": "code",
      "source": [
        "# iiItem price is given in $, so convert it to rupees without currency symbol\n",
        "iteam = iteam.str.replace(\"$\", \"\", regex=False)\n",
        "iteam = iteam.astype(float)"
      ],
      "metadata": {
        "id": "v0tER9lUTM9C"
      },
      "execution_count": 66,
      "outputs": []
    },
    {
      "cell_type": "code",
      "source": [
        "# iii. Make data type of newly made series as float.\n",
        "iteam = pd.Series(iteam.values.astype(float))\n",
        "iteam"
      ],
      "metadata": {
        "colab": {
          "base_uri": "https://localhost:8080/",
          "height": 458
        },
        "id": "grw_y9EvUYPD",
        "outputId": "9d844cf6-90bc-4956-e5a8-6fe32a665dcd"
      },
      "execution_count": 68,
      "outputs": [
        {
          "output_type": "execute_result",
          "data": {
            "text/plain": [
              "0        2.39\n",
              "1        3.39\n",
              "2        3.39\n",
              "3        2.39\n",
              "4       16.98\n",
              "        ...  \n",
              "4617    11.75\n",
              "4618    11.75\n",
              "4619    11.25\n",
              "4620     8.75\n",
              "4621     8.75\n",
              "Length: 4622, dtype: float64"
            ],
            "text/html": [
              "<div>\n",
              "<style scoped>\n",
              "    .dataframe tbody tr th:only-of-type {\n",
              "        vertical-align: middle;\n",
              "    }\n",
              "\n",
              "    .dataframe tbody tr th {\n",
              "        vertical-align: top;\n",
              "    }\n",
              "\n",
              "    .dataframe thead th {\n",
              "        text-align: right;\n",
              "    }\n",
              "</style>\n",
              "<table border=\"1\" class=\"dataframe\">\n",
              "  <thead>\n",
              "    <tr style=\"text-align: right;\">\n",
              "      <th></th>\n",
              "      <th>0</th>\n",
              "    </tr>\n",
              "  </thead>\n",
              "  <tbody>\n",
              "    <tr>\n",
              "      <th>0</th>\n",
              "      <td>2.39</td>\n",
              "    </tr>\n",
              "    <tr>\n",
              "      <th>1</th>\n",
              "      <td>3.39</td>\n",
              "    </tr>\n",
              "    <tr>\n",
              "      <th>2</th>\n",
              "      <td>3.39</td>\n",
              "    </tr>\n",
              "    <tr>\n",
              "      <th>3</th>\n",
              "      <td>2.39</td>\n",
              "    </tr>\n",
              "    <tr>\n",
              "      <th>4</th>\n",
              "      <td>16.98</td>\n",
              "    </tr>\n",
              "    <tr>\n",
              "      <th>...</th>\n",
              "      <td>...</td>\n",
              "    </tr>\n",
              "    <tr>\n",
              "      <th>4617</th>\n",
              "      <td>11.75</td>\n",
              "    </tr>\n",
              "    <tr>\n",
              "      <th>4618</th>\n",
              "      <td>11.75</td>\n",
              "    </tr>\n",
              "    <tr>\n",
              "      <th>4619</th>\n",
              "      <td>11.25</td>\n",
              "    </tr>\n",
              "    <tr>\n",
              "      <th>4620</th>\n",
              "      <td>8.75</td>\n",
              "    </tr>\n",
              "    <tr>\n",
              "      <th>4621</th>\n",
              "      <td>8.75</td>\n",
              "    </tr>\n",
              "  </tbody>\n",
              "</table>\n",
              "<p>4622 rows × 1 columns</p>\n",
              "</div><br><label><b>dtype:</b> float64</label>"
            ]
          },
          "metadata": {},
          "execution_count": 68
        }
      ]
    },
    {
      "cell_type": "code",
      "source": [
        "# iv. Fill nan with mean of the series\n",
        "iteam.fillna(iteam.mean(),inplace=True)\n",
        "print(iteam.mean())\n",
        "iteam.head(10)"
      ],
      "metadata": {
        "colab": {
          "base_uri": "https://localhost:8080/",
          "height": 415
        },
        "id": "Z0mcQd3HYAwF",
        "outputId": "d03622eb-3623-4a26-a563-2da74577f77b"
      },
      "execution_count": 72,
      "outputs": [
        {
          "output_type": "stream",
          "name": "stdout",
          "text": [
            "7.4630314960629915\n"
          ]
        },
        {
          "output_type": "execute_result",
          "data": {
            "text/plain": [
              "0     2.390000\n",
              "1     3.390000\n",
              "2     3.390000\n",
              "3     2.390000\n",
              "4    16.980000\n",
              "5    10.980000\n",
              "6     7.463031\n",
              "7    11.750000\n",
              "8     7.463031\n",
              "9     9.250000\n",
              "dtype: float64"
            ],
            "text/html": [
              "<div>\n",
              "<style scoped>\n",
              "    .dataframe tbody tr th:only-of-type {\n",
              "        vertical-align: middle;\n",
              "    }\n",
              "\n",
              "    .dataframe tbody tr th {\n",
              "        vertical-align: top;\n",
              "    }\n",
              "\n",
              "    .dataframe thead th {\n",
              "        text-align: right;\n",
              "    }\n",
              "</style>\n",
              "<table border=\"1\" class=\"dataframe\">\n",
              "  <thead>\n",
              "    <tr style=\"text-align: right;\">\n",
              "      <th></th>\n",
              "      <th>0</th>\n",
              "    </tr>\n",
              "  </thead>\n",
              "  <tbody>\n",
              "    <tr>\n",
              "      <th>0</th>\n",
              "      <td>2.390000</td>\n",
              "    </tr>\n",
              "    <tr>\n",
              "      <th>1</th>\n",
              "      <td>3.390000</td>\n",
              "    </tr>\n",
              "    <tr>\n",
              "      <th>2</th>\n",
              "      <td>3.390000</td>\n",
              "    </tr>\n",
              "    <tr>\n",
              "      <th>3</th>\n",
              "      <td>2.390000</td>\n",
              "    </tr>\n",
              "    <tr>\n",
              "      <th>4</th>\n",
              "      <td>16.980000</td>\n",
              "    </tr>\n",
              "    <tr>\n",
              "      <th>5</th>\n",
              "      <td>10.980000</td>\n",
              "    </tr>\n",
              "    <tr>\n",
              "      <th>6</th>\n",
              "      <td>7.463031</td>\n",
              "    </tr>\n",
              "    <tr>\n",
              "      <th>7</th>\n",
              "      <td>11.750000</td>\n",
              "    </tr>\n",
              "    <tr>\n",
              "      <th>8</th>\n",
              "      <td>7.463031</td>\n",
              "    </tr>\n",
              "    <tr>\n",
              "      <th>9</th>\n",
              "      <td>9.250000</td>\n",
              "    </tr>\n",
              "  </tbody>\n",
              "</table>\n",
              "</div><br><label><b>dtype:</b> float64</label>"
            ]
          },
          "metadata": {},
          "execution_count": 72
        }
      ]
    },
    {
      "cell_type": "markdown",
      "source": [
        "###`Q-10`:\n",
        "    i. Find mean price\n",
        "    ii. Find 30th and 6th percentile value\n",
        "    iii. Plot Histogram on price with bin size 50\n",
        "    iv. No of items price lies between [1000 to 2000]\n",
        "\n"
      ],
      "metadata": {
        "id": "UHc_4e9cZK8r"
      }
    },
    {
      "cell_type": "code",
      "source": [
        "# i. Find mean price\n",
        "print(iteam.mean())"
      ],
      "metadata": {
        "colab": {
          "base_uri": "https://localhost:8080/"
        },
        "id": "wesRb7eGX-Uo",
        "outputId": "d15f4bb9-7e21-4e22-eca5-f5c1f38cb137"
      },
      "execution_count": 73,
      "outputs": [
        {
          "output_type": "stream",
          "name": "stdout",
          "text": [
            "7.4630314960629915\n"
          ]
        }
      ]
    },
    {
      "cell_type": "code",
      "source": [
        "# code here\n",
        "# ii. Find 30th and 6th percentile value\n",
        "print(np.percentile(iteam , [30 ,60]))"
      ],
      "metadata": {
        "id": "Eh3xX9FpZNmE",
        "colab": {
          "base_uri": "https://localhost:8080/"
        },
        "outputId": "3b007d44-c03d-40d0-89b6-afc93b7a3324"
      },
      "execution_count": 75,
      "outputs": [
        {
          "output_type": "stream",
          "name": "stdout",
          "text": [
            "[4.45 8.75]\n"
          ]
        }
      ]
    },
    {
      "cell_type": "code",
      "source": [
        "# Plot Histogram on price with bin size 50\n",
        "import matplotlib.pyplot as plt\n",
        "plt.hist(iteam, bins=50)\n",
        "plt.xlabel(\"Price\")\n",
        "plt.ylabel(\"Frequency\")\n",
        "plt.title(\"Distribution of Item Prices\")\n",
        "plt.show()"
      ],
      "metadata": {
        "colab": {
          "base_uri": "https://localhost:8080/",
          "height": 472
        },
        "id": "4ArPBmmzZOYn",
        "outputId": "76fdf6e1-927a-407a-b20f-88846601e681"
      },
      "execution_count": 76,
      "outputs": [
        {
          "output_type": "display_data",
          "data": {
            "text/plain": [
              "<Figure size 640x480 with 1 Axes>"
            ],
            "image/png": "[encoded data removed]"
          },
          "metadata": {}
        }
      ]
    },
    {
      "cell_type": "code",
      "source": [
        "# No of items price lies between [1000 to 2000]\n",
        "iteam.between(1000, 2000).sum()"
      ],
      "metadata": {
        "colab": {
          "base_uri": "https://localhost:8080/"
        },
        "id": "xyCUfQxeZ76d",
        "outputId": "f7d4a9a4-d327-4b6f-c750-83c8746005b3"
      },
      "execution_count": 81,
      "outputs": [
        {
          "output_type": "execute_result",
          "data": {
            "text/plain": [
              "np.int64(0)"
            ]
          },
          "metadata": {},
          "execution_count": 81
        }
      ]
    },
    {
      "cell_type": "code",
      "source": [],
      "metadata": {
        "id": "lYhtX2SqaYC_"
      },
      "execution_count": null,
      "outputs": []
    }
  ]
}